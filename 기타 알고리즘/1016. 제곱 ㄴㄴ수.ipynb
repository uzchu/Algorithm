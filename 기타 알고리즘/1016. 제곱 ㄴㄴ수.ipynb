{
 "cells": [
  {
   "cell_type": "markdown",
   "id": "4881e7c6",
   "metadata": {},
   "source": [
    "### 문제\n",
    "\n",
    "어떤 정수 X가 1보다 큰 제곱수로 나누어 떨어지지 않을 때, 그 수를 제곱ㄴㄴ수라고 한다. 제곱수는 정수의 제곱이다. min과 max가 주어지면, min보다 크거나 같고, max보다 작거나 같은 제곱ㄴㄴ수가 몇 개 있는지 출력한다.\n",
    "\n",
    "#### 입력\n",
    "\n",
    "첫째 줄에 두 정수 min과 max가 주어진다.\n",
    "\n",
    "#### 출력\n",
    "\n",
    "첫째 줄에 min보다 크거나 같고, max보다 작거나 같은 제곱ㄴㄴ수의 개수를 출력한다.\n",
    "\n",
    "#### 제한\n",
    "- 1 ≤ min ≤ 1,000,000,000,000\n",
    "- min ≤ max ≤ min + 1,000,000"
   ]
  },
  {
   "cell_type": "code",
   "execution_count": 26,
   "id": "733a52cb",
   "metadata": {},
   "outputs": [
    {
     "name": "stdout",
     "output_type": "stream",
     "text": [
      "1 1000\n",
      "608\n"
     ]
    }
   ],
   "source": [
    "## 시간초과\n",
    "\n",
    "import math\n",
    "\n",
    "mi,ma = map(int,input().split())\n",
    "ls = list(range(mi,ma+1))\n",
    "\n",
    "for i in range(mi, ma+1):\n",
    "    for k in range(2,int(math.sqrt(ma))+1):\n",
    "        if i % (k**2) == 0:\n",
    "            try:\n",
    "                ls.remove(i)\n",
    "            except:\n",
    "                pass\n",
    "\n",
    "print(len(ls))"
   ]
  },
  {
   "cell_type": "code",
   "execution_count": 90,
   "id": "886147dc",
   "metadata": {},
   "outputs": [
    {
     "name": "stdout",
     "output_type": "stream",
     "text": [
      "1 1000\n"
     ]
    },
    {
     "ename": "IndexError",
     "evalue": "list assignment index out of range",
     "output_type": "error",
     "traceback": [
      "\u001b[1;31m---------------------------------------------------------------------------\u001b[0m",
      "\u001b[1;31mIndexError\u001b[0m                                Traceback (most recent call last)",
      "\u001b[1;32m<ipython-input-90-fa3b8b5c4af4>\u001b[0m in \u001b[0;36m<module>\u001b[1;34m\u001b[0m\n\u001b[0;32m      8\u001b[0m         \u001b[0mj\u001b[0m \u001b[1;33m=\u001b[0m \u001b[1;36m1\u001b[0m\u001b[1;33m\u001b[0m\u001b[1;33m\u001b[0m\u001b[0m\n\u001b[0;32m      9\u001b[0m         \u001b[1;32mwhile\u001b[0m \u001b[1;33m(\u001b[0m\u001b[0mi\u001b[0m\u001b[1;33m**\u001b[0m\u001b[1;36m2\u001b[0m\u001b[1;33m)\u001b[0m \u001b[1;33m*\u001b[0m \u001b[0mj\u001b[0m \u001b[1;33m<=\u001b[0m \u001b[0mma\u001b[0m\u001b[1;33m:\u001b[0m\u001b[1;33m\u001b[0m\u001b[1;33m\u001b[0m\u001b[0m\n\u001b[1;32m---> 10\u001b[1;33m             \u001b[0marray\u001b[0m\u001b[1;33m[\u001b[0m\u001b[1;33m(\u001b[0m\u001b[1;33m(\u001b[0m\u001b[0mi\u001b[0m\u001b[1;33m**\u001b[0m\u001b[1;36m2\u001b[0m\u001b[1;33m)\u001b[0m\u001b[1;33m*\u001b[0m\u001b[0mj\u001b[0m\u001b[1;33m)\u001b[0m\u001b[1;33m]\u001b[0m \u001b[1;33m=\u001b[0m \u001b[1;32mFalse\u001b[0m\u001b[1;33m\u001b[0m\u001b[1;33m\u001b[0m\u001b[0m\n\u001b[0m\u001b[0;32m     11\u001b[0m             \u001b[0mj\u001b[0m \u001b[1;33m+=\u001b[0m \u001b[1;36m1\u001b[0m\u001b[1;33m\u001b[0m\u001b[1;33m\u001b[0m\u001b[0m\n\u001b[0;32m     12\u001b[0m \u001b[1;33m\u001b[0m\u001b[0m\n",
      "\u001b[1;31mIndexError\u001b[0m: list assignment index out of range"
     ]
    }
   ],
   "source": [
    "import math\n",
    "\n",
    "mi,ma = map(int,input().split())\n",
    "array = [True for i in range(ma-mi+1)]\n",
    "\n",
    "for i in range(2, int(math.sqrt(ma))+1):\n",
    "    if array[i**2] == True:\n",
    "        j = 1\n",
    "        while (i**2) * j <= ma:\n",
    "            array[((i**2)*j)] = False\n",
    "            j += 1\n",
    "    \n",
    "print(sum(array))"
   ]
  },
  {
   "cell_type": "code",
   "execution_count": 88,
   "id": "66fce2c0",
   "metadata": {},
   "outputs": [
    {
     "data": {
      "text/plain": [
       "[True, True, True, True, True, True, True, True, False, True]"
      ]
     },
     "execution_count": 88,
     "metadata": {},
     "output_type": "execute_result"
    }
   ],
   "source": [
    "array"
   ]
  },
  {
   "cell_type": "code",
   "execution_count": null,
   "id": "8fd6e452",
   "metadata": {},
   "outputs": [],
   "source": []
  }
 ],
 "metadata": {
  "kernelspec": {
   "display_name": "Python 3",
   "language": "python",
   "name": "python3"
  },
  "language_info": {
   "codemirror_mode": {
    "name": "ipython",
    "version": 3
   },
   "file_extension": ".py",
   "mimetype": "text/x-python",
   "name": "python",
   "nbconvert_exporter": "python",
   "pygments_lexer": "ipython3",
   "version": "3.9.5"
  }
 },
 "nbformat": 4,
 "nbformat_minor": 5
}
