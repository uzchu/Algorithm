{
 "cells": [
  {
   "cell_type": "markdown",
   "metadata": {},
   "source": [
    "입국심사를 기다리는 사람 수 n, 각 심사관이 한 명을 심사하는데 걸리는 시간이 담긴 배열 times가 매개변수로 주어질 때, 모든 사람이 심사를 받는데 걸리는 시간의 최솟값을 return 하도록 solution 함수를 작성해주세요.\n",
    "\n",
    "입출력 예\\\n",
    "n\ttimes\treturn\\\n",
    "6\t[7, 10]\t28\n",
    "\n",
    "\n",
    "입출력 예 설명\\\n",
    "가장 첫 두 사람은 바로 심사를 받으러 갑니다.\n",
    "\n",
    "7분이 되었을 때, 첫 번째 심사대가 비고 3번째 사람이 심사를 받습니다.\n",
    "\n",
    "10분이 되었을 때, 두 번째 심사대가 비고 4번째 사람이 심사를 받습니다.\n",
    "\n",
    "14분이 되었을 때, 첫 번째 심사대가 비고 5번째 사람이 심사를 받습니다.\n",
    "\n",
    "20분이 되었을 때, 두 번째 심사대가 비지만 6번째 사람이 그곳에서 심사를 받지 않고 1분을 더 기다린 후에 첫 번째 심사대에서 심사를 받으면 28분에 모든 사람의 심사가 끝납니다."
   ]
  },
  {
   "cell_type": "code",
   "execution_count": 51,
   "metadata": {},
   "outputs": [],
   "source": [
    "def solution(n, times):\n",
    "    start = 0\n",
    "    end = min(times) * n\n",
    "    answer = 0\n",
    "    while start<=end:\n",
    "        mid = (start+end)//2\n",
    "        k=0\n",
    "        for time in times:\n",
    "            k += mid//time\n",
    "            if k >= n:\n",
    "                break\n",
    "        if k >= n:\n",
    "            answer = mid\n",
    "            end = mid - 1\n",
    "        else:\n",
    "            start = mid + 1\n",
    "            \n",
    "    return answer"
   ]
  },
  {
   "cell_type": "code",
   "execution_count": 54,
   "metadata": {},
   "outputs": [
    {
     "data": {
      "text/plain": [
       "21"
      ]
     },
     "execution_count": 54,
     "metadata": {},
     "output_type": "execute_result"
    }
   ],
   "source": [
    "solution(6, [7,10,11])"
   ]
  },
  {
   "cell_type": "code",
   "execution_count": null,
   "metadata": {},
   "outputs": [],
   "source": []
  }
 ],
 "metadata": {
  "kernelspec": {
   "display_name": "Python 3",
   "language": "python",
   "name": "python3"
  },
  "language_info": {
   "codemirror_mode": {
    "name": "ipython",
    "version": 3
   },
   "file_extension": ".py",
   "mimetype": "text/x-python",
   "name": "python",
   "nbconvert_exporter": "python",
   "pygments_lexer": "ipython3",
   "version": "3.7.0"
  }
 },
 "nbformat": 4,
 "nbformat_minor": 4
}
