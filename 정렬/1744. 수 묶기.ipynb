{
 "cells": [
  {
   "cell_type": "markdown",
   "metadata": {},
   "source": [
    "### 문제\n",
    "\n",
    "길이가 N인 수열이 주어졌을 때, 그 수열의 합을 구하려고 한다. 하지만, 그냥 그 수열의 합을 모두 더해서 구하는 것이 아니라, 수열의 두 수를 묶으려고 한다. 어떤 수를 묶으려고 할 때, 위치에 상관없이 묶을 수 있다. 하지만, 같은 위치에 있는 수(자기 자신)를 묶는 것은 불가능하다. 그리고 어떤 수를 묶게 되면, 수열의 합을 구할 때 묶은 수는 서로 곱한 후에 더한다.\n",
    "\n",
    "예를 들면, 어떤 수열이 {0, 1, 2, 4, 3, 5}일 때, 그냥 이 수열의 합을 구하면 0+1+2+4+3+5 = 15이다. 하지만, 2와 3을 묶고, 4와 5를 묶게 되면, 0+1+(2*3)+(4*5) = 27이 되어 최대가 된다.\n",
    "\n",
    "수열의 모든 수는 단 한번만 묶거나, 아니면 묶지 않아야한다.\n",
    "\n",
    "수열이 주어졌을 때, 수열의 각 수를 적절히 묶었을 때, 그 합이 최대가 되게 하는 프로그램을 작성하시오.\n",
    "\n",
    "#### 입력\n",
    "\n",
    "첫째 줄에 수열의 크기 N이 주어진다. N은 50보다 작은 자연수이다. 둘째 줄부터 N개의 줄에 수열의 각 수가 주어진다. 수열의 수는 -1,000보다 크거나 같고, 1,000보다 작거나 같은 정수이다.\n",
    "\n",
    "#### 출력\n",
    "\n",
    "수를 합이 최대가 나오게 묶었을 때 합을 출력한다. 정답은 항상 231보다 작다."
   ]
  },
  {
   "cell_type": "markdown",
   "metadata": {},
   "source": [
    "### 답안"
   ]
  },
  {
   "cell_type": "code",
   "execution_count": 65,
   "metadata": {
    "scrolled": false
   },
   "outputs": [
    {
     "name": "stdout",
     "output_type": "stream",
     "text": [
      "4\n",
      "-1\n",
      "2\n",
      "1\n",
      "3\n"
     ]
    },
    {
     "data": {
      "text/plain": [
       "6"
      ]
     },
     "execution_count": 65,
     "metadata": {},
     "output_type": "execute_result"
    }
   ],
   "source": [
    "pls, nls = [],[]\n",
    "n = int(input())\n",
    "f_pls,f_nls = [],[] #최종 양수리스트, 최종 음수리스트\n",
    "\n",
    "for i in range(n):\n",
    "    k = int(input())\n",
    "    if k >0: #k가 양수일때\n",
    "        pls.append(k) #pls에 담음\n",
    "    else: #k가 0이거나 음수일때\n",
    "        nls.append(k) #nls에 담음\n",
    "\n",
    "pls.sort() #양수 순차적으로 정렬\n",
    "if len(pls)==1: # 1개일땐 최종이 pls\n",
    "    f_pls = pls\n",
    "elif len(pls)%2==0:#총 갯수가 짝수일때\n",
    "    for i in range(0,len(pls),2): #2개씩 짝지어서 곱함\n",
    "        if pls[i]==1: # 1일땐 안곱하고 각각 넣음\n",
    "            f_pls.append(1)\n",
    "            f_pls.append(pls[i+1])\n",
    "        else:\n",
    "            f_pls.append(pls[i]*pls[i+1])\n",
    "else:#총 갯수가 홀수일 때\n",
    "    f_pls.append(pls[0]) #젤 앞에꺼(젤 작은 수) 최종에 걍 넣음\n",
    "    pls = pls[1:] #젤 앞에꺼 빼서 총 갯수를 짝수로 만들어줌\n",
    "    for i in range(0,len(pls),2): #위에랑 똑같음\n",
    "        if pls[i]==1:\n",
    "            f_pls.append(1)\n",
    "            f_pls.append(pls[i+1])\n",
    "        else:\n",
    "            f_pls.append(pls[i]*pls[i+1])\n",
    "\n",
    "            \n",
    "nls.sort(reverse=True) #음수리스트는 뒤집어서 정렬 (절대값이 작은 순)\n",
    "if len(nls)==1: #1개일땐 최종이 nls\n",
    "    f_nls = nls\n",
    "elif len(nls)%2==0: #총 갯수가 짝수개일땐 서로 곱해줌\n",
    "    for i in range(0,len(nls),2):\n",
    "        f_nls.append(nls[i]*nls[i+1])\n",
    "else: #총 갯수가 홀수개일땐 \n",
    "    f_nls.append(nls[0]) #젤 앞에꺼(절대값이 제일 작은 수) 최종에 걍 넣음\n",
    "    nls = nls[1:] # 총 갯수 짝수개 만들어줌\n",
    "    for i in range(0,len(nls),2): #똑같이\n",
    "        f_nls.append(nls[i]*nls[i+1])\n",
    "\n",
    "print(sum(f_pls+f_nls)) #두개 리스트 더한 값 sum해서 출력"
   ]
  },
  {
   "cell_type": "markdown",
   "metadata": {},
   "source": []
  },
  {
   "cell_type": "markdown",
   "metadata": {},
   "source": []
  },
  {
   "cell_type": "markdown",
   "metadata": {},
   "source": [
    "### 시도"
   ]
  },
  {
   "cell_type": "code",
   "execution_count": 40,
   "metadata": {},
   "outputs": [],
   "source": [
    "def s_mg(n,ls):\n",
    "    f_ls = []\n",
    "    ls.sort()\n",
    "    if n == 1:\n",
    "        f_ls = ls\n",
    "    else:\n",
    "        for i in range(0,n,2):\n",
    "            if ls[i]<0:\n",
    "                if ls[i+1]<=0:\n",
    "                    f_ls.append(ls[i]*ls[i+1])\n",
    "                else:\n",
    "                    f_ls.append(ls[i])\n",
    "                    f_ls.append(ls[i+1])\n",
    "            elif ls[i]==0:\n",
    "                if ls[i+1]>0:\n",
    "                    f_ls.append(ls[i+1])\n",
    "                else:\n",
    "                    pass\n",
    "            elif ls[i]==1:\n",
    "                f_ls.append(ls[i])\n",
    "                f_ls.append(ls[i+1])\n",
    "            else:\n",
    "                try:\n",
    "                    f_ls.append(ls[i]*ls[i+1])\n",
    "                except:\n",
    "                    f_ls.append(ls[i])\n",
    "    return sum(f_ls)"
   ]
  },
  {
   "cell_type": "code",
   "execution_count": 41,
   "metadata": {},
   "outputs": [
    {
     "name": "stdout",
     "output_type": "stream",
     "text": [
      "2\n",
      "1\n",
      "1\n"
     ]
    },
    {
     "data": {
      "text/plain": [
       "2"
      ]
     },
     "execution_count": 41,
     "metadata": {},
     "output_type": "execute_result"
    }
   ],
   "source": [
    "ls = []\n",
    "n = int(input())\n",
    "\n",
    "for i in range(n):\n",
    "    ls.append(int(input()))\n",
    "\n",
    "s_mg(n,ls)"
   ]
  },
  {
   "cell_type": "code",
   "execution_count": 47,
   "metadata": {},
   "outputs": [
    {
     "name": "stdout",
     "output_type": "stream",
     "text": [
      "2\n",
      "1\n",
      "1\n"
     ]
    },
    {
     "data": {
      "text/plain": [
       "2"
      ]
     },
     "execution_count": 47,
     "metadata": {},
     "output_type": "execute_result"
    }
   ],
   "source": [
    "def s_mg(n,ls):\n",
    "    f_ls = []\n",
    "    ls.sort()\n",
    "    if n == 1:\n",
    "        f_ls = ls\n",
    "    else:\n",
    "        for i in range(0,n,2):\n",
    "            if ls[i]<0:\n",
    "                if ls[i+1]<=0:\n",
    "                    f_ls.append(ls[i]*ls[i+1])\n",
    "                else:\n",
    "                    f_ls.append(ls[i])\n",
    "                    f_ls.append(ls[i+1])\n",
    "            elif ls[i]==0:\n",
    "                if ls[i+1]>0:\n",
    "                    f_ls.append(ls[i+1])\n",
    "                else:\n",
    "                    pass\n",
    "            elif ls[i]==1:                    \n",
    "                f_ls.append(1)\n",
    "                try:\n",
    "                    f_ls.append(ls[i+1])\n",
    "                except:\n",
    "                    pass\n",
    "            else:\n",
    "                try:\n",
    "                    f_ls.append(ls[i]*ls[i+1])\n",
    "                except:\n",
    "                    f_ls.append(ls[i])\n",
    "    return sum(f_ls)\n",
    "\n",
    "ls = []\n",
    "n = int(input())\n",
    "\n",
    "for i in range(n):\n",
    "    ls.append(int(input()))\n",
    "\n",
    "s_mg(n,ls)"
   ]
  },
  {
   "cell_type": "code",
   "execution_count": null,
   "metadata": {},
   "outputs": [],
   "source": []
  }
 ],
 "metadata": {
  "kernelspec": {
   "display_name": "Python 3",
   "language": "python",
   "name": "python3"
  },
  "language_info": {
   "codemirror_mode": {
    "name": "ipython",
    "version": 3
   },
   "file_extension": ".py",
   "mimetype": "text/x-python",
   "name": "python",
   "nbconvert_exporter": "python",
   "pygments_lexer": "ipython3",
   "version": "3.7.0"
  }
 },
 "nbformat": 4,
 "nbformat_minor": 4
}
