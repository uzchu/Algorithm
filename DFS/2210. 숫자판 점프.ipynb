{
 "cells": [
  {
   "cell_type": "markdown",
   "id": "be092775",
   "metadata": {},
   "source": [
    "### 문제\n",
    "\n",
    "5×5 크기의 숫자판이 있다. 각각의 칸에는 숫자(digit, 0부터 9까지)가 적혀 있다. 이 숫자판의 임의의 위치에서 시작해서, 인접해 있는 네 방향으로 다섯 번 이동하면서, 각 칸에 적혀있는 숫자를 차례로 붙이면 6자리의 수가 된다. 이동을 할 때에는 한 번 거쳤던 칸을 다시 거쳐도 되며, 0으로 시작하는 000123과 같은 수로 만들 수 있다.\n",
    "숫자판이 주어졌을 때, 만들 수 있는 서로 다른 여섯 자리의 수들의 개수를 구하는 프로그램을 작성하시오.\n",
    "\n",
    "### 입력\n",
    "\n",
    "다섯 개의 줄에 다섯 개의 정수로 숫자판이 주어진다.\n",
    "\n",
    "### 출력\n",
    "\n",
    "첫째 줄에 만들 수 있는 수들의 개수를 출력한다"
   ]
  },
  {
   "cell_type": "code",
   "execution_count": null,
   "id": "1a3518fa",
   "metadata": {},
   "outputs": [],
   "source": []
  }
 ],
 "metadata": {
  "kernelspec": {
   "display_name": "Python 3",
   "language": "python",
   "name": "python3"
  },
  "language_info": {
   "codemirror_mode": {
    "name": "ipython",
    "version": 3
   },
   "file_extension": ".py",
   "mimetype": "text/x-python",
   "name": "python",
   "nbconvert_exporter": "python",
   "pygments_lexer": "ipython3",
   "version": "3.9.5"
  }
 },
 "nbformat": 4,
 "nbformat_minor": 5
}
