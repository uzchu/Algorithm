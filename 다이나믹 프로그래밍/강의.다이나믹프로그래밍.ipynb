{
 "cells": [
  {
   "cell_type": "markdown",
   "metadata": {},
   "source": [
    "### 개미전사\n",
    "\n",
    "- 첫째줄에 식량창고의 개수 N이 주어집니다. (3 <= N <= 100)\n",
    "- 둘째줄에 공백을 기준으로 각 식량창고에 저장된 식량의 개수 K가 주어집니다. (0<=K<=1000)\n",
    "\n",
    "- 첫째줄에 개미전사가 얻을 수 있는 식량의 최대값을 출력하세요"
   ]
  },
  {
   "cell_type": "code",
   "execution_count": 7,
   "metadata": {},
   "outputs": [
    {
     "name": "stdout",
     "output_type": "stream",
     "text": [
      "4\n",
      "1 3 1 5\n"
     ]
    }
   ],
   "source": [
    "n = int(input())\n",
    "array = list(map(int,input().split()))"
   ]
  },
  {
   "cell_type": "code",
   "execution_count": 8,
   "metadata": {},
   "outputs": [
    {
     "name": "stdout",
     "output_type": "stream",
     "text": [
      "8\n"
     ]
    }
   ],
   "source": [
    "#dp테이블 초기화\n",
    "d = [0] * 100\n",
    "\n",
    "#다이나믹프로그래밍 진행(보텀업)\n",
    "d[0] = array[0]\n",
    "d[1] = max(array[0],array[1])\n",
    "for i in range(2,n):\n",
    "    d[i] = max(d[i-1],d[i-2]+array[i])\n",
    "\n",
    "print(d[n-1])"
   ]
  },
  {
   "cell_type": "markdown",
   "metadata": {},
   "source": [
    "### 1로 만들기\n",
    "\n",
    "- 첫째줄에 정수 X가 주어집니다. (1 <= N <= 100)\n",
    "\n",
    "- 첫째줄에 연산을 하는 횟수의 최솟값을 출력하세요"
   ]
  },
  {
   "cell_type": "code",
   "execution_count": 26,
   "metadata": {},
   "outputs": [
    {
     "name": "stdout",
     "output_type": "stream",
     "text": [
      "26\n",
      "3\n"
     ]
    }
   ],
   "source": [
    "x = int(input())\n",
    "\n",
    "d = [0]*30001\n",
    "\n",
    "for i in range(2, x+1):\n",
    "    d[i] = d[i-1]+1\n",
    "    if i %2 == 0:\n",
    "        d[i] = min(d[i],d[i//2]+1)\n",
    "    if i %3 == 0:\n",
    "        d[i] = min(d[i],d[i//3]+1)\n",
    "    if i %5 == 0:\n",
    "        d[i] = min(d[i],d[i//5]+1)\n",
    "        \n",
    "print(d[x])"
   ]
  },
  {
   "cell_type": "markdown",
   "metadata": {},
   "source": [
    "### 효율적인 화폐구성\n",
    "- 첫째줄에 N,M이 주어진다(1<=N<=100, 1<=M<=10,000)\n",
    "- 이후의 N개의 줄에는 각 화폐의 가치가 주어진다. 화폐의 가치는 10,000보다 작거나 같은 자연수이다.\n",
    "\n",
    "\n",
    "- 첫째줄에 최소 화폐 개수를 출력한다.\n",
    "- 불가능할 때는 -1을 출력한다"
   ]
  },
  {
   "cell_type": "code",
   "execution_count": null,
   "metadata": {},
   "outputs": [],
   "source": []
  }
 ],
 "metadata": {
  "kernelspec": {
   "display_name": "Python 3",
   "language": "python",
   "name": "python3"
  },
  "language_info": {
   "codemirror_mode": {
    "name": "ipython",
    "version": 3
   },
   "file_extension": ".py",
   "mimetype": "text/x-python",
   "name": "python",
   "nbconvert_exporter": "python",
   "pygments_lexer": "ipython3",
   "version": "3.9.5"
  }
 },
 "nbformat": 4,
 "nbformat_minor": 4
}
